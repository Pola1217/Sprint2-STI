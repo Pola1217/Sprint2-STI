{
  "nbformat": 4,
  "nbformat_minor": 0,
  "metadata": {
    "colab": {
      "provenance": [],
      "collapsed_sections": [],
      "authorship_tag": "ABX9TyMPFtAQXnIAmTZm8SAphjeM",
      "include_colab_link": true
    },
    "kernelspec": {
      "name": "python3",
      "display_name": "Python 3"
    },
    "language_info": {
      "name": "python"
    }
  },
  "cells": [
    {
      "cell_type": "markdown",
      "metadata": {
        "id": "view-in-github",
        "colab_type": "text"
      },
      "source": [
        "<a href=\"https://colab.research.google.com/github/Pola1217/Sprint2-STI/blob/main/Spritn2.ipynb\" target=\"_parent\"><img src=\"https://colab.research.google.com/assets/colab-badge.svg\" alt=\"Open In Colab\"/></a>"
      ]
    },
    {
      "cell_type": "code",
      "execution_count": 11,
      "metadata": {
        "colab": {
          "base_uri": "https://localhost:8080/"
        },
        "id": "PRRAOsa6Cne-",
        "outputId": "746633e7-f651-4470-89f7-e956e3d0a6ba"
      },
      "outputs": [
        {
          "output_type": "stream",
          "name": "stdout",
          "text": [
            "   nombre   Aitor  Cayetana  Luna  Alvaro  Mariona\n",
            "0  valor 1   0.11      0.12  0.27    0.66     0.01\n",
            "1  valor 2   0.37      0.22  0.87    0.17     0.78\n",
            "2  valor 3   0.99      0.54  0.45    0.44     0.67\n",
            "3  valor 4   0.02      0.33  0.40    0.48     0.86\n",
            "4  valor 5   0.55      0.46  0.55    0.24     0.22\n",
            "0.9726767191621274\n",
            "1.3584550047756458\n",
            "---------------------------------------------------\n",
            "El coseno es:\n",
            "0.6808252706625849\n"
          ]
        }
      ],
      "source": [
        "import pandas as pd\n",
        "import numpy as np\n",
        "import math\n",
        "\n",
        "data_base = pd.read_csv('sprint2.csv')\n",
        "\n",
        "print(data_base)\n",
        "\n",
        "first_drop =\"Alvaro\" #@param [\"Aitor\",\"Cayetana\",\"Luna\",\"Alvaro\",\"Mariona\"]\n",
        "\n",
        "second_drop = \"Mariona\" #@param [\"Aitor\",\"Cayetana\",\"Luna\",\"Alvaro\",\"Mariona\"]\n",
        "\n",
        "if first_drop == \"Aitor\":\n",
        "    first_drop = data_base.Aitor\n",
        "elif first_drop == \"Cayetana\":\n",
        "    first_drop = data_base.Cayetana\n",
        "elif first_drop == \"Luna\":\n",
        "    first_drop = data_base.Luna\n",
        "elif first_drop == \"Alvaro\":\n",
        "    first_drop = data_base.Alvaro\n",
        "elif first_drop == \"Mariona\":\n",
        "    first_drop = data_base.Mariona\n",
        "else: print(\"valor no existe\")\n",
        "\n",
        "if second_drop == \"Aitor\":\n",
        "      second_drop = data_base.Aitor\n",
        "elif second_drop == \"Cayetana\":\n",
        "      second_drop = data_base.Cayetana\n",
        "elif second_drop == \"Luna\":\n",
        "      second_drop = data_base.Luna\n",
        "elif second_drop == \"Alvaro\":\n",
        "      second_drop = data_base.Alvaro\n",
        "elif second_drop == \"Mariona\":\n",
        "      second_drop = data_base.Mariona\n",
        "else: print(\"valor no existe\")\n",
        "\n",
        "AB = (first_drop[0] * second_drop[0]) + (first_drop[1] * second_drop[1]) + (first_drop[2] * second_drop[2]) + (first_drop[3] * second_drop[3]) + (first_drop[4] * second_drop[4])\n",
        "\n",
        "Ap = math.sqrt((first_drop[0]**2) + (first_drop[1]**2) + (first_drop[2]**2) + (first_drop[3]**2) + (first_drop[4]**2))\n",
        "Bp = math.sqrt((second_drop[0]**2) + (second_drop[1]**2) + (second_drop[2]**2) + (second_drop[3]**2) + (second_drop[4]**2))\n",
        "\n",
        "print(Ap)\n",
        "print(Bp)\n",
        "\n",
        "Cos = AB/(Ap * Bp)\n",
        "print(\"---------------------------------------------------\")\n",
        "print(\"El coseno es:\")\n",
        "print(Cos)\n"
      ]
    }
  ]
}